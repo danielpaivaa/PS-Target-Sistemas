{
 "cells": [
  {
   "attachments": {},
   "cell_type": "markdown",
   "metadata": {},
   "source": [
    "## Questão 2"
   ]
  },
  {
   "cell_type": "code",
   "execution_count": 1,
   "metadata": {},
   "outputs": [
    {
     "name": "stdout",
     "output_type": "stream",
     "text": [
      "O número 55 pertence à sequência de Fibonacci.\n"
     ]
    }
   ],
   "source": [
    "import random\n",
    "\n",
    "def fibonacci(n):\n",
    "    a, b = 0, 1\n",
    "    while b < n:\n",
    "        a, b = b, a + b\n",
    "    if b == n:\n",
    "        return True\n",
    "    else:\n",
    "        return False\n",
    "\n",
    "# numero = int(input(\"Digite um número: \"))\n",
    "numero = random.randint(0, 101)\n",
    "if fibonacci(numero):\n",
    "    print(f\"O número {numero} pertence à sequência de Fibonacci.\")\n",
    "else:\n",
    "    print(f\"O número {numero} não pertence à sequência de Fibonacci.\")\n"
   ]
  },
  {
   "attachments": {},
   "cell_type": "markdown",
   "metadata": {},
   "source": [
    "## Questão 5"
   ]
  },
  {
   "cell_type": "code",
   "execution_count": 2,
   "metadata": {},
   "outputs": [
    {
     "name": "stdout",
     "output_type": "stream",
     "text": [
      "lein\n"
     ]
    }
   ],
   "source": [
    "def inverter_string(s):\n",
    "    # Converter a string em uma lista de caracteres\n",
    "    chars = list(s)\n",
    "    \n",
    "    # Obter o índice do primeiro e último caracteres\n",
    "    i = 0\n",
    "    j = len(chars) - 1\n",
    "    \n",
    "    # Inverter os caracteres usando o método de swap\n",
    "    while i < j:\n",
    "        # Swap dos caracteres\n",
    "        chars[i], chars[j] = chars[j], chars[i]\n",
    "        # Incremento dos índices\n",
    "        i += 1\n",
    "        j -= 1\n",
    "        \n",
    "    # Converter a lista de caracteres de volta para uma string\n",
    "    return ''.join(chars)\n",
    "\n",
    "minha_string = input('Digite a string desejada:')\n",
    "string_invertida = inverter_string(minha_string)\n",
    "print(string_invertida)  # !dlrow ,olleH\n"
   ]
  }
 ],
 "metadata": {
  "kernelspec": {
   "display_name": "base",
   "language": "python",
   "name": "python3"
  },
  "language_info": {
   "codemirror_mode": {
    "name": "ipython",
    "version": 3
   },
   "file_extension": ".py",
   "mimetype": "text/x-python",
   "name": "python",
   "nbconvert_exporter": "python",
   "pygments_lexer": "ipython3",
   "version": "3.9.13"
  },
  "orig_nbformat": 4
 },
 "nbformat": 4,
 "nbformat_minor": 2
}
